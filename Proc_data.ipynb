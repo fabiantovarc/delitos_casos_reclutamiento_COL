{
 "cells": [
  {
   "cell_type": "code",
   "execution_count": 2,
   "id": "4d29be3a",
   "metadata": {},
   "outputs": [],
   "source": [
    "import numpy as np\n",
    "import pandas as pd\n",
    "#import warnings\n",
    "#warnings.filterwarnings('ignore')\n",
    "import unicodedata\n",
    "import re\n",
    "import matplotlib.pyplot as plt\n",
    "import seaborn as sns"
   ]
  },
  {
   "cell_type": "code",
   "execution_count": 17,
   "id": "218b8fbd",
   "metadata": {},
   "outputs": [
    {
     "name": "stderr",
     "output_type": "stream",
     "text": [
      "/home/fabian/miniconda3/envs/islp/lib/python3.10/site-packages/openpyxl/styles/stylesheet.py:237: UserWarning: Workbook contains no default style, apply openpyxl's default\n",
      "  warn(\"Workbook contains no default style, apply openpyxl's default\")\n"
     ]
    }
   ],
   "source": [
    "# Carga manual de los archivos con su respectiva etiqueta\n",
    "#df1 = pd.read_excel('/media/fabian/INFO/Universidad externado/ML2/proyecto/data/CAsesionatosSelectivos_202503.xlsx')\n",
    "#df1['caso'] = 'Asesinatos selectivos'\n",
    "\n",
    "#df2 = pd.read_excel('data/CDesaparicionForzada_202503.xlsx') \n",
    "#df2['caso'] = 'Desaparición forzada'\n",
    "\n",
    "#df3 = pd.read_excel('data/CMasacres_202503.xlsx')\n",
    "#df3['caso'] = 'Masacres'\n",
    "\n",
    "df4 = pd.read_excel('/media/fabian/INFO/Universidad externado/ML2/proyecto/data/CReclyUtiliNinoNinasAdo_202503.xlsx')\n",
    "df4['caso'] = 'Reclutamiento'\n",
    "\n",
    "#df5 = pd.read_excel('data/CViolenciaSex_202503.xlsx')\n",
    "#df5['caso'] = 'Violencia sexual'\n"
   ]
  },
  {
   "cell_type": "code",
   "execution_count": null,
   "id": "984f5714",
   "metadata": {},
   "outputs": [
    {
     "name": "stdout",
     "output_type": "stream",
     "text": [
      "IDs comunes entre df1 y df2: 151732\n",
      "IDs comunes entre df1 y df3: 151151\n",
      "IDs comunes entre df1 y df4: 151149\n",
      "IDs comunes entre df1 y df5: 151890\n",
      "IDs comunes entre df2 y df3: 65425\n",
      "IDs comunes entre df2 y df4: 65281\n",
      "IDs comunes entre df2 y df5: 65421\n",
      "IDs comunes entre df3 y df4: 3976\n",
      "IDs comunes entre df3 y df5: 4042\n",
      "IDs comunes entre df4 y df5: 16950\n"
     ]
    }
   ],
   "source": [
    "# Agrupar todos los dataframes en una lista\n",
    "#dfs = [df1, df2, df3, df4, df5]\n",
    "\n",
    "# Convertir todos los 'ID Caso' a string para comparación uniforme\n",
    "#for i in range(len(dfs)):\n",
    "#    dfs[i]['ID Caso Relacionado'] = dfs[i]['ID Caso Relacionado'].astype(str)\n",
    "\n",
    "# Comparación cruzada de IDs\n",
    "#for i in range(len(dfs)):\n",
    "#    for j in range(i + 1, len(dfs)):\n",
    "#        comunes = dfs[i]['ID Caso Relacionado'].isin(dfs[j]['ID Caso Relacionado']).sum()\n",
    "#        print(f\"IDs comunes entre df{i+1} y df{j+1}: {comunes}\")"
   ]
  },
  {
   "cell_type": "markdown",
   "id": "0d07356f",
   "metadata": {},
   "source": [
    "## revisamos las combinaciones y columnas en comun "
   ]
  },
  {
   "cell_type": "code",
   "execution_count": null,
   "id": "0b586a23",
   "metadata": {},
   "outputs": [
    {
     "name": "stdout",
     "output_type": "stream",
     "text": [
      "\n",
      "► Columnas presentes en TODOS los datasets:\n",
      "  - Abandono o Despojo Forzado de Tierras\n",
      "  - Amenaza o Intimidación\n",
      "  - Ataque Contra Misión Médica\n",
      "  - Año\n",
      "  - Confinamiento o Restricción a la Movilidad\n",
      "  - Código DANE de Municipio\n",
      "  - Departamento\n",
      "  - Descripción Presunto Responsable\n",
      "  - Desplazamiento Forzado\n",
      "  - Día\n",
      "  - Extorsión\n",
      "  - ID Caso\n",
      "  - ID Caso Relacionado\n",
      "  - Latitud\n",
      "  - Lesionados Civiles\n",
      "  - Longitud\n",
      "  - Mes\n",
      "  - Modalidad\n",
      "  - Municipio\n",
      "  - Otro Hecho Simultáneo\n",
      "  - Pillaje\n",
      "  - Presunto Responsable\n",
      "  - Región\n",
      "  - Tortura\n",
      "  - Total de Víctimas del Caso\n",
      "  - Violencia Basada en Género\n",
      "  - caso\n",
      "\n",
      "► Columnas comunes por pareja de datasets:\n",
      "  Asesinatos + Desaparición: 28 columnas en común\n",
      "  Asesinatos + Masacres: 28 columnas en común\n",
      "  Asesinatos + Reclutamiento: 27 columnas en común\n",
      "  Asesinatos + Violencia: 28 columnas en común\n",
      "  Desaparición + Masacres: 28 columnas en común\n",
      "  Desaparición + Reclutamiento: 27 columnas en común\n",
      "  Desaparición + Violencia: 28 columnas en común\n",
      "  Masacres + Reclutamiento: 27 columnas en común\n",
      "  Masacres + Violencia: 28 columnas en común\n",
      "  Reclutamiento + Violencia: 27 columnas en común\n"
     ]
    }
   ],
   "source": [
    "#from itertools import combinations\n",
    "#dfs = [df1, df2, df3, df4, df5]\n",
    "#names = ['Asesinatos', 'Desaparición', 'Masacres', 'Reclutamiento', 'Violencia']\n",
    "\n",
    "# Columnas comunes a los 5 -------------------------------------------\n",
    "#common_all = set(dfs[0].columns)\n",
    "#for d in dfs[1:]:\n",
    "#    common_all &= set(d.columns)\n",
    "\n",
    "#print(\"\\n Columnas presentes en TODOS los datasets:\")\n",
    "#for col in sorted(common_all):\n",
    "#    print(\"  -\", col)\n",
    "\n",
    "# Columnas comunes por pares (opcional) -------------------------------\n",
    "#print(\"\\n Columnas comunes por pareja de datasets:\")\n",
    "#for (i, j) in combinations(range(len(dfs)), 2):\n",
    "#    col_pair = set(dfs[i].columns) & set(dfs[j].columns)\n",
    "#    print(f\"  {names[i]} + {names[j]}: {len(col_pair)} columnas en común\")"
   ]
  },
  {
   "cell_type": "markdown",
   "id": "d0b87e25",
   "metadata": {},
   "source": [
    "## categorizamos las relaciones y codificamos"
   ]
  },
  {
   "cell_type": "code",
   "execution_count": 18,
   "id": "9016af88",
   "metadata": {},
   "outputs": [],
   "source": [
    "# Definir columnas de interés\n",
    "cols_interes = [\n",
    "    'ID Caso Relacionado', 'Año', 'Presunto Responsable',\n",
    "    'Latitud', 'Longitud', 'Total de Víctimas del Caso', 'caso'\n",
    "]\n",
    "\n",
    "\n",
    "df4 = df4.copy()\n",
    "\n",
    "for col in cols_interes:\n",
    "    if col not in df4.columns:\n",
    "        df4[col] = pd.NA\n",
    "\n",
    "# Seleccionar únicamente las columnas en orden\n",
    "df = df4[cols_interes]\n"
   ]
  },
  {
   "cell_type": "code",
   "execution_count": 19,
   "id": "43e4f2e4",
   "metadata": {},
   "outputs": [
    {
     "data": {
      "text/plain": [
       "(17280, 7)"
      ]
     },
     "execution_count": 19,
     "metadata": {},
     "output_type": "execute_result"
    }
   ],
   "source": [
    "df.shape"
   ]
  },
  {
   "cell_type": "markdown",
   "id": "0db3c413",
   "metadata": {},
   "source": [
    "# Revisamos los Na y las estadisticas basicas"
   ]
  },
  {
   "cell_type": "code",
   "execution_count": 20,
   "id": "78855a09",
   "metadata": {},
   "outputs": [
    {
     "name": "stdout",
     "output_type": "stream",
     "text": [
      "Primeras filas del conjunto de datos:\n"
     ]
    },
    {
     "data": {
      "text/html": [
       "<div>\n",
       "<style scoped>\n",
       "    .dataframe tbody tr th:only-of-type {\n",
       "        vertical-align: middle;\n",
       "    }\n",
       "\n",
       "    .dataframe tbody tr th {\n",
       "        vertical-align: top;\n",
       "    }\n",
       "\n",
       "    .dataframe thead th {\n",
       "        text-align: right;\n",
       "    }\n",
       "</style>\n",
       "<table border=\"1\" class=\"dataframe\">\n",
       "  <thead>\n",
       "    <tr style=\"text-align: right;\">\n",
       "      <th></th>\n",
       "      <th>ID Caso Relacionado</th>\n",
       "      <th>Año</th>\n",
       "      <th>Presunto Responsable</th>\n",
       "      <th>Latitud</th>\n",
       "      <th>Longitud</th>\n",
       "      <th>Total de Víctimas del Caso</th>\n",
       "      <th>caso</th>\n",
       "    </tr>\n",
       "  </thead>\n",
       "  <tbody>\n",
       "    <tr>\n",
       "      <th>0</th>\n",
       "      <td>NaN</td>\n",
       "      <td>2004</td>\n",
       "      <td>GRUPO PARAMILITAR</td>\n",
       "      <td>6.219481</td>\n",
       "      <td>-74.571689</td>\n",
       "      <td>1</td>\n",
       "      <td>Reclutamiento</td>\n",
       "    </tr>\n",
       "    <tr>\n",
       "      <th>1</th>\n",
       "      <td>NaN</td>\n",
       "      <td>2001</td>\n",
       "      <td>GRUPO PARAMILITAR</td>\n",
       "      <td>5.837681</td>\n",
       "      <td>-74.828073</td>\n",
       "      <td>1</td>\n",
       "      <td>Reclutamiento</td>\n",
       "    </tr>\n",
       "    <tr>\n",
       "      <th>2</th>\n",
       "      <td>NaN</td>\n",
       "      <td>0</td>\n",
       "      <td>GUERRILLA</td>\n",
       "      <td>6.992244</td>\n",
       "      <td>-76.314263</td>\n",
       "      <td>1</td>\n",
       "      <td>Reclutamiento</td>\n",
       "    </tr>\n",
       "    <tr>\n",
       "      <th>3</th>\n",
       "      <td>NaN</td>\n",
       "      <td>1988</td>\n",
       "      <td>GUERRILLA</td>\n",
       "      <td>6.894292</td>\n",
       "      <td>-73.539003</td>\n",
       "      <td>1</td>\n",
       "      <td>Reclutamiento</td>\n",
       "    </tr>\n",
       "    <tr>\n",
       "      <th>4</th>\n",
       "      <td>NaN</td>\n",
       "      <td>1998</td>\n",
       "      <td>GUERRILLA</td>\n",
       "      <td>5.416268</td>\n",
       "      <td>-75.904326</td>\n",
       "      <td>1</td>\n",
       "      <td>Reclutamiento</td>\n",
       "    </tr>\n",
       "  </tbody>\n",
       "</table>\n",
       "</div>"
      ],
      "text/plain": [
       "  ID Caso Relacionado   Año Presunto Responsable   Latitud   Longitud  \\\n",
       "0                 NaN  2004    GRUPO PARAMILITAR  6.219481 -74.571689   \n",
       "1                 NaN  2001    GRUPO PARAMILITAR  5.837681 -74.828073   \n",
       "2                 NaN     0            GUERRILLA  6.992244 -76.314263   \n",
       "3                 NaN  1988            GUERRILLA  6.894292 -73.539003   \n",
       "4                 NaN  1998            GUERRILLA  5.416268 -75.904326   \n",
       "\n",
       "   Total de Víctimas del Caso           caso  \n",
       "0                           1  Reclutamiento  \n",
       "1                           1  Reclutamiento  \n",
       "2                           1  Reclutamiento  \n",
       "3                           1  Reclutamiento  \n",
       "4                           1  Reclutamiento  "
      ]
     },
     "metadata": {},
     "output_type": "display_data"
    },
    {
     "name": "stdout",
     "output_type": "stream",
     "text": [
      "\n",
      "Dimensiones del dataset: 17280 filas y 7 columnas\n",
      "\n",
      "Resumen de tipos de datos y valores nulos:\n",
      "<class 'pandas.core.frame.DataFrame'>\n",
      "RangeIndex: 17280 entries, 0 to 17279\n",
      "Data columns (total 7 columns):\n",
      " #   Column                      Non-Null Count  Dtype  \n",
      "---  ------                      --------------  -----  \n",
      " 0   ID Caso Relacionado         375 non-null    object \n",
      " 1   Año                         17280 non-null  int64  \n",
      " 2   Presunto Responsable        17280 non-null  object \n",
      " 3   Latitud                     17280 non-null  float64\n",
      " 4   Longitud                    17280 non-null  float64\n",
      " 5   Total de Víctimas del Caso  17280 non-null  int64  \n",
      " 6   caso                        17280 non-null  object \n",
      "dtypes: float64(2), int64(2), object(3)\n",
      "memory usage: 945.1+ KB\n"
     ]
    },
    {
     "data": {
      "text/plain": [
       "None"
      ]
     },
     "metadata": {},
     "output_type": "display_data"
    },
    {
     "data": {
      "text/plain": [
       "ID Caso Relacionado           16905\n",
       "Año                               0\n",
       "Presunto Responsable              0\n",
       "Latitud                           0\n",
       "Longitud                          0\n",
       "Total de Víctimas del Caso        0\n",
       "caso                              0\n",
       "dtype: int64"
      ]
     },
     "metadata": {},
     "output_type": "display_data"
    },
    {
     "name": "stdout",
     "output_type": "stream",
     "text": [
      "\n",
      "Estadísticas descriptivas:\n"
     ]
    },
    {
     "data": {
      "text/html": [
       "<div>\n",
       "<style scoped>\n",
       "    .dataframe tbody tr th:only-of-type {\n",
       "        vertical-align: middle;\n",
       "    }\n",
       "\n",
       "    .dataframe tbody tr th {\n",
       "        vertical-align: top;\n",
       "    }\n",
       "\n",
       "    .dataframe thead th {\n",
       "        text-align: right;\n",
       "    }\n",
       "</style>\n",
       "<table border=\"1\" class=\"dataframe\">\n",
       "  <thead>\n",
       "    <tr style=\"text-align: right;\">\n",
       "      <th></th>\n",
       "      <th>Año</th>\n",
       "      <th>Latitud</th>\n",
       "      <th>Longitud</th>\n",
       "      <th>Total de Víctimas del Caso</th>\n",
       "    </tr>\n",
       "  </thead>\n",
       "  <tbody>\n",
       "    <tr>\n",
       "      <th>count</th>\n",
       "      <td>17280.000000</td>\n",
       "      <td>17280.000000</td>\n",
       "      <td>17280.000000</td>\n",
       "      <td>17280.000000</td>\n",
       "    </tr>\n",
       "    <tr>\n",
       "      <th>mean</th>\n",
       "      <td>701.587731</td>\n",
       "      <td>4.846684</td>\n",
       "      <td>-74.372279</td>\n",
       "      <td>1.057581</td>\n",
       "    </tr>\n",
       "    <tr>\n",
       "      <th>std</th>\n",
       "      <td>956.135797</td>\n",
       "      <td>2.639673</td>\n",
       "      <td>1.930497</td>\n",
       "      <td>1.249798</td>\n",
       "    </tr>\n",
       "    <tr>\n",
       "      <th>min</th>\n",
       "      <td>0.000000</td>\n",
       "      <td>-3.530059</td>\n",
       "      <td>-81.717624</td>\n",
       "      <td>1.000000</td>\n",
       "    </tr>\n",
       "    <tr>\n",
       "      <th>25%</th>\n",
       "      <td>0.000000</td>\n",
       "      <td>2.975772</td>\n",
       "      <td>-75.875339</td>\n",
       "      <td>1.000000</td>\n",
       "    </tr>\n",
       "    <tr>\n",
       "      <th>50%</th>\n",
       "      <td>0.000000</td>\n",
       "      <td>4.005034</td>\n",
       "      <td>-74.528685</td>\n",
       "      <td>1.000000</td>\n",
       "    </tr>\n",
       "    <tr>\n",
       "      <th>75%</th>\n",
       "      <td>2002.000000</td>\n",
       "      <td>6.906942</td>\n",
       "      <td>-72.590385</td>\n",
       "      <td>1.000000</td>\n",
       "    </tr>\n",
       "    <tr>\n",
       "      <th>max</th>\n",
       "      <td>2025.000000</td>\n",
       "      <td>12.543115</td>\n",
       "      <td>-67.487095</td>\n",
       "      <td>150.000000</td>\n",
       "    </tr>\n",
       "  </tbody>\n",
       "</table>\n",
       "</div>"
      ],
      "text/plain": [
       "                Año       Latitud      Longitud  Total de Víctimas del Caso\n",
       "count  17280.000000  17280.000000  17280.000000                17280.000000\n",
       "mean     701.587731      4.846684    -74.372279                    1.057581\n",
       "std      956.135797      2.639673      1.930497                    1.249798\n",
       "min        0.000000     -3.530059    -81.717624                    1.000000\n",
       "25%        0.000000      2.975772    -75.875339                    1.000000\n",
       "50%        0.000000      4.005034    -74.528685                    1.000000\n",
       "75%     2002.000000      6.906942    -72.590385                    1.000000\n",
       "max     2025.000000     12.543115    -67.487095                  150.000000"
      ]
     },
     "metadata": {},
     "output_type": "display_data"
    }
   ],
   "source": [
    "# Ver primeras filas\n",
    "print(\"Primeras filas del conjunto de datos:\")\n",
    "display(df.head())\n",
    "\n",
    "# Dimensiones del DataFrame\n",
    "print(f\"\\nDimensiones del dataset: {df.shape[0]} filas y {df.shape[1]} columnas\")\n",
    "\n",
    "# Tipos de datos y nulos\n",
    "print(\"\\nResumen de tipos de datos y valores nulos:\")\n",
    "display(df.info())\n",
    "display(df.isnull().sum())\n",
    "\n",
    "# Estadísticas básicas\n",
    "print(\"\\nEstadísticas descriptivas:\")\n",
    "display(df.describe())"
   ]
  },
  {
   "cell_type": "markdown",
   "id": "bfbfff57",
   "metadata": {},
   "source": [
    "# Quitamos los caracteres especiales de los nombres de las columnas"
   ]
  },
  {
   "cell_type": "code",
   "execution_count": 21,
   "id": "04818fb0",
   "metadata": {},
   "outputs": [
    {
     "name": "stderr",
     "output_type": "stream",
     "text": [
      "/tmp/ipykernel_43788/4162079830.py:12: SettingWithCopyWarning: \n",
      "A value is trying to be set on a copy of a slice from a DataFrame\n",
      "\n",
      "See the caveats in the documentation: https://pandas.pydata.org/pandas-docs/stable/user_guide/indexing.html#returning-a-view-versus-a-copy\n",
      "  df.drop(columns=['ID_Caso_Relacionado'], inplace=True)\n"
     ]
    }
   ],
   "source": [
    "def clean_column_name(col):\n",
    "    # Elimina acentos\n",
    "    col = ''.join(c for c in unicodedata.normalize('NFKD', col) if not unicodedata.combining(c))\n",
    "    # Reemplaza espacios y otros caracteres especiales por guiones bajos\n",
    "    col = re.sub(r'[^\\w]+', '_', col)\n",
    "    # Elimina guiones bajos redundantes al final o inicio\n",
    "    col = col.strip('_')\n",
    "    return col\n",
    "\n",
    "df.columns = [clean_column_name(col) for col in df.columns]\n",
    "\n",
    "df.drop(columns=['ID_Caso_Relacionado'], inplace=True)"
   ]
  },
  {
   "cell_type": "code",
   "execution_count": 23,
   "id": "443640d4",
   "metadata": {},
   "outputs": [
    {
     "name": "stderr",
     "output_type": "stream",
     "text": [
      "/tmp/ipykernel_43788/3976645230.py:1: SettingWithCopyWarning: \n",
      "A value is trying to be set on a copy of a slice from a DataFrame\n",
      "\n",
      "See the caveats in the documentation: https://pandas.pydata.org/pandas-docs/stable/user_guide/indexing.html#returning-a-view-versus-a-copy\n",
      "  df.drop(columns=['caso'], inplace=True)\n"
     ]
    }
   ],
   "source": [
    "df.drop(columns=['caso'], inplace=True)"
   ]
  },
  {
   "cell_type": "code",
   "execution_count": 24,
   "id": "ebeb1a63",
   "metadata": {},
   "outputs": [
    {
     "data": {
      "text/plain": [
       "Index(['Ano', 'Presunto_Responsable', 'Latitud', 'Longitud',\n",
       "       'Total_de_Victimas_del_Caso'],\n",
       "      dtype='object')"
      ]
     },
     "execution_count": 24,
     "metadata": {},
     "output_type": "execute_result"
    }
   ],
   "source": [
    "df.columns"
   ]
  },
  {
   "cell_type": "markdown",
   "id": "70f1da27",
   "metadata": {},
   "source": [
    "## tratamiento de las categoricas"
   ]
  },
  {
   "cell_type": "code",
   "execution_count": 25,
   "id": "0777613d",
   "metadata": {},
   "outputs": [
    {
     "name": "stdout",
     "output_type": "stream",
     "text": [
      "Año promedio usado: 2005\n"
     ]
    }
   ],
   "source": [
    "# Calcular el promedio de los valores distintos de 0\n",
    "promedio_ano = int(round(df.loc[df['Ano'] != 0, 'Ano'].mean()))\n",
    "\n",
    "# Reemplazar los 0 por el promedio\n",
    "df.loc[df['Ano'] == 0, 'Ano'] = promedio_ano\n",
    "\n",
    "# Confirmar resultado\n",
    "print(f\"Año promedio usado: {promedio_ano}\")"
   ]
  },
  {
   "cell_type": "code",
   "execution_count": 26,
   "id": "3f98e1ab",
   "metadata": {},
   "outputs": [
    {
     "name": "stdout",
     "output_type": "stream",
     "text": [
      "cantidad: 17280\n",
      "\n",
      "TOP-30 hechos simultáneos:\n",
      " hecho  conteo\n",
      "  2005   11728\n",
      "  2003     752\n",
      "  2004     741\n",
      "  2002     603\n",
      "  2001     417\n",
      "  2006     382\n",
      "  2007     326\n",
      "  2000     291\n",
      "  2010     234\n",
      "  2008     225\n",
      "  2009     214\n",
      "  2011     183\n",
      "  2012     176\n",
      "  1999     148\n",
      "  2013     143\n",
      "  2014     110\n",
      "  1998      93\n",
      "  1997      68\n",
      "  2015      59\n",
      "  1996      58\n",
      "  1995      42\n",
      "  1994      33\n",
      "  1993      29\n",
      "  1989      21\n",
      "  2024      20\n",
      "  1992      20\n",
      "  1990      19\n",
      "  2016      18\n",
      "  2020      14\n",
      "  2023      12\n"
     ]
    }
   ],
   "source": [
    "vc = (\n",
    "    df['Ano']\n",
    "    .fillna('Ninguno')          # por si quedaban NaN ocultos\n",
    "    .value_counts(dropna=False)\n",
    "    .rename_axis('hecho')\n",
    "    .reset_index(name='conteo')\n",
    ")\n",
    "\n",
    "# Top\n",
    "print('cantidad:', len(df))\n",
    "print(\"\\nTOP-30 hechos simultáneos:\")\n",
    "print(vc.head(30).to_string(index=False))\n"
   ]
  },
  {
   "cell_type": "code",
   "execution_count": 27,
   "id": "c4b7bef4",
   "metadata": {},
   "outputs": [
    {
     "data": {
      "text/plain": [
       "Presunto_Responsable\n",
       "DESCONOCIDO                              9314\n",
       "GUERRILLA                                4329\n",
       "GRUPO PARAMILITAR                        1856\n",
       "GRUPO ARMADO NO IDENTIFICADO             1498\n",
       "GRUPO POSDESMOVILIZACIÓN                  262\n",
       "AGENTE DEL ESTADO                          12\n",
       "OTRO ¿CUÁL?                                 4\n",
       "BANDOLERISMO                                3\n",
       "CRIMEN ORGANIZADO                           1\n",
       "AGENTE DEL ESTADO - GRUPO PARAMILITAR       1\n",
       "Name: count, dtype: int64"
      ]
     },
     "execution_count": 27,
     "metadata": {},
     "output_type": "execute_result"
    }
   ],
   "source": [
    "df['Presunto_Responsable'].value_counts()"
   ]
  },
  {
   "cell_type": "code",
   "execution_count": 28,
   "id": "c1f8c777",
   "metadata": {},
   "outputs": [
    {
     "data": {
      "text/plain": [
       "Index(['Ano', 'Presunto_Responsable', 'Latitud', 'Longitud',\n",
       "       'Total_de_Victimas_del_Caso'],\n",
       "      dtype='object')"
      ]
     },
     "execution_count": 28,
     "metadata": {},
     "output_type": "execute_result"
    }
   ],
   "source": [
    "df.columns"
   ]
  },
  {
   "cell_type": "code",
   "execution_count": 29,
   "id": "dc3c7f79",
   "metadata": {},
   "outputs": [],
   "source": [
    "df.to_csv('/media/fabian/INFO/Universidad externado/ML2/proyecto/data/datos_concatenados.csv', index=False)"
   ]
  }
 ],
 "metadata": {
  "kernelspec": {
   "display_name": "islp",
   "language": "python",
   "name": "python3"
  },
  "language_info": {
   "codemirror_mode": {
    "name": "ipython",
    "version": 3
   },
   "file_extension": ".py",
   "mimetype": "text/x-python",
   "name": "python",
   "nbconvert_exporter": "python",
   "pygments_lexer": "ipython3",
   "version": "3.10.17"
  }
 },
 "nbformat": 4,
 "nbformat_minor": 5
}
